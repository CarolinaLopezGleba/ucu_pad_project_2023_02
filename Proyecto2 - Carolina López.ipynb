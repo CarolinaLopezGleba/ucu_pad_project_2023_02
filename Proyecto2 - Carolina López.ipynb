{
 "cells": [
  {
   "cell_type": "markdown",
   "metadata": {},
   "source": [
    "# Proyecto 2 -Carolina López\n",
    "Todas las preguntas tienen el mismo peso en esta tarea. Esta tarea requiere más aprendizaje individual. Te invito a consultar la documentación de pandas para encontrar funciones o métodos que quizás no has usado aún, o realices preguntas en Stack Overflow y etiquételos como relacionados con pandas y python. Todas las preguntas tienen la misma cantidad de puntos, excepto la pregunta 1, que vale el 20 % de la calificación de la tarea.\n",
    "\n",
    "Nota: A partir de la pregunta 2 se basan en la respuesta de la pregunta 1."
   ]
  },
  {
   "cell_type": "markdown",
   "metadata": {},
   "source": [
    "## Pregunta 1"
   ]
  },
  {
   "cell_type": "markdown",
   "metadata": {},
   "source": [
    "### Pregunta 1 parte 1\n",
    "\n",
    "\n",
    "Cargue los datos de energía del archivo assets/Energy Indicators.xls, que es una lista de indicadores de suministro de energía y producción de electricidad renovable de las Naciones Unidas para el año 2013, y asigna esos datos a un DataFrame con el nombre de variable energy.\n",
    "\n",
    "Ten en cuenta que este es un archivo de Excel y no un archivo de valores separados por comas (.csv). Además, asegúrate de excluir la información del pie de página y del encabezado del archivo de datos. Las primeras dos columnas son innecesarias, por lo que debes deshacerse de ellas. También debes cambiar las etiquetas de las columnas para que las columnas sean las siguientes:\n",
    "\n",
    "['Country', 'Energy Supply', 'Energy Supply per Capita', '% Renewable']\n",
    "\n",
    "Convierta Energy Supply a gigajulios (Nota: hay 1,000,000 giga julios en un petajulio). Para todos los países que carezcan de datos (por ejemplo, datos con \"...\"), asegúrese de que estos reflejen valores np.NaN.\n",
    "\n",
    "Cambia el nombre de los siguientes países según este listado (nos servirá para preguntas posteriores):\n",
    "\n",
    "\"Republic of Korea\": \"South Korea\",\n",
    "\"United States of America\": \"United States\",\n",
    "\"United Kingdom of Great Britain and Northern Ireland\": \"United Kingdom\",\n",
    "\"China, Hong Kong Special Administrative Region\": \"Hong Kong\"\n",
    "También hay varios países que contienen paréntesis en su nombre. Asegúrete de eliminarlos, por ejemplo: 'Bolivia (Estado Plurinacional de)' debería ser 'Bolivia'."
   ]
  },
  {
   "cell_type": "code",
   "execution_count": 194,
   "metadata": {
    "vscode": {
     "languageId": "ruby"
    }
   },
   "outputs": [
    {
     "name": "stdout",
     "output_type": "stream",
     "text": [
      "            Country  Energy Supply Energy Supply per capita % Renewable\n",
      "0           Albania   1.020000e+08                       35         100\n",
      "1           Algeria   1.959000e+09                       51     0.55101\n",
      "2    American Samoa            NaN                      ...    0.641026\n",
      "3           Andorra   9.000000e+06                      121    88.69565\n",
      "4            Angola   6.420000e+08                       27    70.90909\n",
      "..              ...            ...                      ...         ...\n",
      "259             NaN            NaN                      NaN         NaN\n",
      "260             NaN            NaN                      NaN         NaN\n",
      "261             NaN            NaN                      NaN         NaN\n",
      "262             NaN            NaN                      NaN         NaN\n",
      "263             NaN            NaN                      NaN         NaN\n",
      "\n",
      "[264 rows x 4 columns]\n"
     ]
    }
   ],
   "source": [
    "import pandas as pd\n",
    "import  xlrd\n",
    "import numpy as np\n",
    "\n",
    "# Ruta del archivo Excel\n",
    "archivo_excel = 'Energy Indicators.xls'\n",
    "\n",
    "# Leer el archivo Excel en un DataFrame\n",
    "energy = pd.read_excel(archivo_excel)\n",
    "\n",
    "# Eliminar las filas \n",
    "energy = energy.iloc[18:]\n",
    "\n",
    "# Eliminar las columnas \n",
    "energy = energy.iloc[:, 2:]\n",
    "\n",
    "# Restablecer los índices de las filas\n",
    "energy.reset_index(drop=True, inplace=True)\n",
    "\n",
    "# Renombrar las columnas\n",
    "energy.rename(columns={energy.columns[0]: 'Country',\n",
    "                      energy.columns[1]: 'Energy Supply',\n",
    "                      energy.columns[2]: 'Energy Supply per capita', \n",
    "                      energy.columns[3]: '% Renewable'}, inplace=True)\n",
    "\n",
    "# Reemplazar los valores faltantes (\"...\") con NaN\n",
    "energy['Energy Supply'].replace('...', np.nan, inplace=True)\n",
    "\n",
    "# Convertir los valores de petajulios a gigajulios\n",
    "energy['Energy Supply'] = pd.to_numeric(energy['Energy Supply'], errors='coerce') * 1e6\n",
    "\n",
    "# Remplazar nombres de paises\n",
    "country_replacements = {\n",
    "    'Republic of Korea': 'South Korea',\n",
    "    'United States of America': 'United States',\n",
    "    'United Kingdom of Great Britain and Northern Ireland': 'United Kingdom',\n",
    "    'United States Virgin Islands' : 'Virgin Islands',\n",
    "    'China, Hong Kong Special Administrative Region': 'Hong Kong'\n",
    "}\n",
    "\n",
    "energy['Country'].replace(country_replacements, inplace=True)\n",
    "\n",
    "# Eliminar paréntesis, todo lo seguido de of, y numeros y espacios.\n",
    "energy['Country'] = energy['Country'].str.replace(r\"\\(.*\\)|\\d+| of.*$|(?<= )\", \"\", regex=True)\n",
    "energy['Country'] = energy['Country'].str.replace(r\"(/^\\s+|\\s+$|\\s+(?=\\s)/g)\", \"\", regex=True)\n",
    "\n",
    "# DataFrame resultante\n",
    "print(energy)"
   ]
  },
  {
   "cell_type": "markdown",
   "metadata": {},
   "source": [
    "### Pregunta 1 parte 2\n",
    "A continuación, carga los datos del GDP (PBI) del archivo assets/world_bank.csv. Este es un archivo .csv del Banco Mundial que contiene el PBI de los países desde 1960 hasta 2015. Llame a este DataFrame gdp.\n",
    "\n",
    "Asegúrete de omitir el encabezado y cambia el nombre de la siguiente lista de países:\n",
    "\n",
    "\"Korea, Rep.\": \"South Korea\",\n",
    "\"Iran, Islamic Rep.\": \"Iran\",\n",
    "\"Hong Kong SAR, China\": \"Hong Kong\"\n"
   ]
  },
  {
   "cell_type": "code",
   "execution_count": 196,
   "metadata": {
    "vscode": {
     "languageId": "ruby"
    }
   },
   "outputs": [
    {
     "name": "stdout",
     "output_type": "stream",
     "text": [
      "              Country Country Code                            Indicator Name  \\\n",
      "0               Aruba          ABW  GDP at market prices (constant 2010 US$)   \n",
      "1             Andorra          AND  GDP at market prices (constant 2010 US$)   \n",
      "2         Afghanistan          AFG  GDP at market prices (constant 2010 US$)   \n",
      "3              Angola          AGO  GDP at market prices (constant 2010 US$)   \n",
      "4             Albania          ALB  GDP at market prices (constant 2010 US$)   \n",
      "..                ...          ...                                       ...   \n",
      "259       Yemen, Rep.          YEM  GDP at market prices (constant 2010 US$)   \n",
      "260      South Africa          ZAF  GDP at market prices (constant 2010 US$)   \n",
      "261  Congo, Dem. Rep.          COD  GDP at market prices (constant 2010 US$)   \n",
      "262            Zambia          ZMB  GDP at market prices (constant 2010 US$)   \n",
      "263          Zimbabwe          ZWE  GDP at market prices (constant 2010 US$)   \n",
      "\n",
      "     Indicator Code          1960          1961          1962          1963  \\\n",
      "0    NY.GDP.MKTP.KD           NaN           NaN           NaN           NaN   \n",
      "1    NY.GDP.MKTP.KD           NaN           NaN           NaN           NaN   \n",
      "2    NY.GDP.MKTP.KD           NaN           NaN           NaN           NaN   \n",
      "3    NY.GDP.MKTP.KD           NaN           NaN           NaN           NaN   \n",
      "4    NY.GDP.MKTP.KD           NaN           NaN           NaN           NaN   \n",
      "..              ...           ...           ...           ...           ...   \n",
      "259  NY.GDP.MKTP.KD           NaN           NaN           NaN           NaN   \n",
      "260  NY.GDP.MKTP.KD  7.707081e+10  8.003449e+10  8.497844e+10  9.124438e+10   \n",
      "261  NY.GDP.MKTP.KD  1.508024e+10  1.344383e+10  1.629401e+10  1.714358e+10   \n",
      "262  NY.GDP.MKTP.KD  4.592975e+09  4.655503e+09  4.539542e+09  4.688093e+09   \n",
      "263  NY.GDP.MKTP.KD  3.338344e+09  3.549199e+09  3.600111e+09  3.824915e+09   \n",
      "\n",
      "             1964          1965  ...          2006          2007  \\\n",
      "0             NaN           NaN  ...           NaN           NaN   \n",
      "1             NaN           NaN  ...  4.018196e+09  4.021331e+09   \n",
      "2             NaN           NaN  ...  1.030523e+10  1.172119e+10   \n",
      "3             NaN           NaN  ...  5.581103e+10  6.842044e+10   \n",
      "4             NaN           NaN  ...  9.771760e+09  1.034829e+10   \n",
      "..            ...           ...  ...           ...           ...   \n",
      "259           NaN           NaN  ...  2.672565e+10  2.761787e+10   \n",
      "260  9.848904e+10  1.072507e+11  ...  3.402852e+11  3.585261e+11   \n",
      "261  1.672524e+10  1.689205e+10  ...  1.650894e+10  1.754232e+10   \n",
      "262  5.260699e+09  6.136472e+09  ...  1.440569e+10  1.560892e+10   \n",
      "263  3.782605e+09  3.968352e+09  ...  1.006276e+10  9.695130e+09   \n",
      "\n",
      "             2008          2009          2010          2011          2012  \\\n",
      "0             NaN           NaN  2.467704e+09           NaN           NaN   \n",
      "1    3.675728e+09  3.535389e+09  3.346317e+09  3.185605e+09  3.129538e+09   \n",
      "2    1.214448e+10  1.469733e+10  1.593680e+10  1.691113e+10  1.935220e+10   \n",
      "3    7.787420e+10  7.975320e+10  8.247091e+10  8.570262e+10  9.012096e+10   \n",
      "4    1.112752e+10  1.150029e+10  1.192695e+10  1.223109e+10  1.240477e+10   \n",
      "..            ...           ...           ...           ...           ...   \n",
      "259  2.872656e+10  2.991436e+10  3.090675e+10  2.624342e+10  2.689160e+10   \n",
      "260  3.699668e+11  3.642764e+11  3.753494e+11  3.874074e+11  3.960071e+11   \n",
      "261  1.863448e+10  1.916651e+10  2.052329e+10  2.193213e+10  2.350200e+10   \n",
      "262  1.682234e+10  1.837342e+10  2.026555e+10  2.140358e+10  2.302438e+10   \n",
      "263  7.982103e+09  8.459783e+09  9.422161e+09  1.054391e+10  1.165789e+10   \n",
      "\n",
      "             2013          2014          2015  \n",
      "0             NaN           NaN           NaN  \n",
      "1    3.127550e+09           NaN           NaN  \n",
      "2    1.973134e+10  1.999032e+10  2.029415e+10  \n",
      "3    9.626143e+10  1.008863e+11  1.039106e+11  \n",
      "4    1.254247e+10  1.279331e+10  1.312082e+10  \n",
      "..            ...           ...           ...  \n",
      "259  2.800914e+10           NaN           NaN  \n",
      "260  4.047682e+11  4.110369e+11  4.163117e+11  \n",
      "261  2.550050e+10  2.778776e+10  2.970961e+10  \n",
      "262  2.420595e+10  2.542227e+10  2.624127e+10  \n",
      "263  1.218064e+10  1.264939e+10  1.278517e+10  \n",
      "\n",
      "[264 rows x 60 columns]\n"
     ]
    }
   ],
   "source": [
    "gdp = pd.read_csv('world_bank.csv', skiprows=4)\n",
    "\n",
    "# Cambiar el nombre de los países según la lista dada\n",
    "country_name_changes = {\n",
    "    \"Korea, Rep.\": \"South Korea\",\n",
    "    \"Iran, Islamic Rep.\": \"Iran\",\n",
    "    \"Hong Kong SAR, China\": \"Hong Kong\"\n",
    "}\n",
    "\n",
    "gdp['Country Name'].replace(country_name_changes, inplace=True)\n",
    "\n",
    "# Renombrar la columna 'Country Name' a 'Country'\n",
    "gdp.rename(columns={'Country Name': 'Country'}, inplace=True)\n",
    "\n",
    "# DataFrame resultante\n",
    "print(gdp)\n"
   ]
  },
  {
   "cell_type": "markdown",
   "metadata": {},
   "source": [
    "### Pregunta 1 parte 3\n",
    "\n",
    "Finalmente, lee el Sciamgo Journal and Country Rank data for Energy Engineering and Power Technology desde el archivo assets/scimagojr-3.xlsx, que clasifica a los paises según sus contribuciones al área mencionada. Denomina este DataFrame con el nombre sciamgo.\n",
    "\n"
   ]
  },
  {
   "cell_type": "code",
   "execution_count": 200,
   "metadata": {
    "vscode": {
     "languageId": "ruby"
    }
   },
   "outputs": [
    {
     "name": "stdout",
     "output_type": "stream",
     "text": [
      "     Rank             Country  Documents  Citable documents  Citations  \\\n",
      "0       1               China     127050             126767     597237   \n",
      "1       2       United States      96661              94747     792274   \n",
      "2       3               Japan      30504              30287     223024   \n",
      "3       4      United Kingdom      20944              20357     206091   \n",
      "4       5  Russian Federation      18534              18301      34266   \n",
      "..    ...                 ...        ...                ...        ...   \n",
      "186   187              Guyana          1                  1          0   \n",
      "187   188    Christmas Island          1                  1          0   \n",
      "188   189             Reunion          1                  1          2   \n",
      "189   190         Saint Lucia          1                  1          0   \n",
      "190   191          Mauritania          1                  1          1   \n",
      "\n",
      "     Self-citations  Citations per document  H index  \n",
      "0            411683                    4.70      138  \n",
      "1            265436                    8.20      230  \n",
      "2             61554                    7.31      134  \n",
      "3             37874                    9.84      139  \n",
      "4             12422                    1.85       57  \n",
      "..              ...                     ...      ...  \n",
      "186               0                    0.00        0  \n",
      "187               0                    0.00        0  \n",
      "188               1                    2.00        1  \n",
      "189               0                    0.00        0  \n",
      "190               0                    1.00        1  \n",
      "\n",
      "[191 rows x 8 columns]\n"
     ]
    }
   ],
   "source": [
    "# Cargar el archivo Excel\n",
    "sciamgo = pd.read_excel('scimagojr-3.xlsx')\n",
    "\n",
    "sciamgo = pd.DataFrame(sciamgo)\n",
    "\n",
    "print(sciamgo)"
   ]
  },
  {
   "cell_type": "markdown",
   "metadata": {},
   "source": [
    "## Pregunta 1 parte 4 \n",
    "\n",
    "Unifica los tres datasets: GDP, Energy, y ScimEn en un nuevo dataset (utilizando la intersección de los nombres de países). Utiliza solo los años del 2006 al 2015 de datos de GDP (PBI) y solo los 15 principales países según el ranking de Scimagojr 'Rank' (del 1 al 15).\n",
    "\n",
    "El índice de este DataFrame debe ser el nombre de los países, y las columnas deben ser ['Rank', 'Documents', 'Citable documents', 'Citations', 'Self-citations', 'Citations per document', 'H index', 'Energy Supply', 'Energy Supply per Capita', '% Renewable', '2006', '2007', '2008', '2009', '2010', '2011', '2012', '2013', '2014', '2015']\n",
    "\n",
    "Esto debería devolver un DataFrame con 20 columnas y 15 entradas, y las filas del DataFrame deberían estar ordenadas por \"Rank\"."
   ]
  },
  {
   "cell_type": "code",
   "execution_count": 203,
   "metadata": {
    "vscode": {
     "languageId": "ruby"
    }
   },
   "outputs": [
    {
     "name": "stdout",
     "output_type": "stream",
     "text": [
      "               Country  Rank  Documents  Citable documents  Citations  \\\n",
      "0                China     1     127050             126767     597237   \n",
      "1        United States     2      96661              94747     792274   \n",
      "2                Japan     3      30504              30287     223024   \n",
      "3       United Kingdom     4      20944              20357     206091   \n",
      "4   Russian Federation     5      18534              18301      34266   \n",
      "5               Canada     6      17899              17620     215003   \n",
      "6              Germany     7      17027              16831     140566   \n",
      "7                India     8      15005              14841     128763   \n",
      "8               France     9      13153              12973     130632   \n",
      "9          South Korea    10      11983              11923     114675   \n",
      "10               Italy    11      10964              10794     111850   \n",
      "11               Spain    12       9428               9330     123336   \n",
      "12                Iran    13       8896               8819      57470   \n",
      "13           Australia    14       8831               8725      90765   \n",
      "14              Brazil    15       8668               8596      60702   \n",
      "\n",
      "    Self-citations  Citations per document  H index  Energy Supply  \\\n",
      "0           411683                    4.70      138   1.271910e+11   \n",
      "1           265436                    8.20      230   9.083800e+10   \n",
      "2            61554                    7.31      134   1.898400e+10   \n",
      "3            37874                    9.84      139   7.920000e+09   \n",
      "4            12422                    1.85       57   3.070900e+10   \n",
      "5            40930                   12.01      149   1.043100e+10   \n",
      "6            27426                    8.26      126   1.326100e+10   \n",
      "7            37209                    8.58      115   3.319500e+10   \n",
      "8            28601                    9.93      114   1.059700e+10   \n",
      "9            22595                    9.57      104   1.100700e+10   \n",
      "10           26661                   10.20      106   6.530000e+09   \n",
      "11           23964                   13.08      115   4.923000e+09   \n",
      "12           19125                    6.46       72   9.172000e+09   \n",
      "13           15606                   10.28      107   5.386000e+09   \n",
      "14           14396                    7.00       86   1.214900e+10   \n",
      "\n",
      "   Energy Supply per capita  ...          2006          2007          2008  \\\n",
      "0                        93  ...  3.992331e+12  4.559041e+12  4.997775e+12   \n",
      "1                       286  ...  1.479230e+13  1.505540e+13  1.501149e+13   \n",
      "2                       149  ...  5.496542e+12  5.617036e+12  5.558527e+12   \n",
      "3                       124  ...  2.419631e+12  2.482203e+12  2.470614e+12   \n",
      "4                       214  ...  1.385793e+12  1.504071e+12  1.583004e+12   \n",
      "5                       296  ...  1.564469e+12  1.596740e+12  1.612713e+12   \n",
      "6                       165  ...  3.332891e+12  3.441561e+12  3.478809e+12   \n",
      "7                        26  ...  1.265894e+12  1.374865e+12  1.428361e+12   \n",
      "8                       166  ...  2.607840e+12  2.669424e+12  2.674637e+12   \n",
      "9                       221  ...  9.410199e+11  9.924316e+11  1.020510e+12   \n",
      "10                      109  ...  2.202170e+12  2.234627e+12  2.211154e+12   \n",
      "11                      106  ...  1.414823e+12  1.468146e+12  1.484530e+12   \n",
      "12                      119  ...  3.895523e+11  4.250646e+11  4.289909e+11   \n",
      "13                      231  ...  1.021939e+12  1.060340e+12  1.099644e+12   \n",
      "14                       59  ...  1.845080e+12  1.957118e+12  2.056809e+12   \n",
      "\n",
      "            2009          2010          2011          2012          2013  \\\n",
      "0   5.459247e+12  6.039659e+12  6.612490e+12  7.124978e+12  7.672448e+12   \n",
      "1   1.459484e+13  1.496437e+13  1.520402e+13  1.554216e+13  1.577367e+13   \n",
      "2   5.251308e+12  5.498718e+12  5.473738e+12  5.569102e+12  5.644659e+12   \n",
      "3   2.367048e+12  2.403504e+12  2.450911e+12  2.479809e+12  2.533370e+12   \n",
      "4   1.459199e+12  1.524917e+12  1.589943e+12  1.645876e+12  1.666934e+12   \n",
      "5   1.565145e+12  1.613406e+12  1.664087e+12  1.693133e+12  1.730688e+12   \n",
      "6   3.283340e+12  3.417298e+12  3.542371e+12  3.556724e+12  3.567317e+12   \n",
      "7   1.549483e+12  1.708459e+12  1.821872e+12  1.924235e+12  2.051982e+12   \n",
      "8   2.595967e+12  2.646995e+12  2.702032e+12  2.706968e+12  2.722567e+12   \n",
      "9   1.027730e+12  1.094499e+12  1.134796e+12  1.160809e+12  1.194429e+12   \n",
      "10  2.089938e+12  2.125185e+12  2.137439e+12  2.077184e+12  2.040871e+12   \n",
      "11  1.431475e+12  1.431673e+12  1.417355e+12  1.380216e+12  1.357139e+12   \n",
      "12  4.389208e+11  4.677902e+11  4.853309e+11  4.532569e+11  4.445926e+11   \n",
      "13  1.119654e+12  1.142251e+12  1.169431e+12  1.211913e+12  1.241484e+12   \n",
      "14  2.054215e+12  2.208872e+12  2.295245e+12  2.339209e+12  2.409740e+12   \n",
      "\n",
      "            2014          2015  \n",
      "0   8.230121e+12  8.797999e+12  \n",
      "1   1.615662e+13  1.654857e+13  \n",
      "2   5.642884e+12  5.669563e+12  \n",
      "3   2.605643e+12  2.666333e+12  \n",
      "4   1.678709e+12  1.616149e+12  \n",
      "5   1.773486e+12  1.792609e+12  \n",
      "6   3.624386e+12  3.685556e+12  \n",
      "7   2.200617e+12  2.367206e+12  \n",
      "8   2.729632e+12  2.761185e+12  \n",
      "9   1.234340e+12  1.266580e+12  \n",
      "10  2.033868e+12  2.049316e+12  \n",
      "11  1.375605e+12  1.419821e+12  \n",
      "12  4.639027e+11           NaN  \n",
      "13  1.272520e+12  1.301251e+12  \n",
      "14  2.412231e+12  2.319423e+12  \n",
      "\n",
      "[15 rows x 21 columns]\n"
     ]
    }
   ],
   "source": [
    "# Realizar las transformaciones en el DataFrame 'scimago'\n",
    "sciamgo = sciamgo[sciamgo['Rank'] <= 15]\n",
    "\n",
    "# Unir los DataFrames utilizando la intersección de los nombres de países\n",
    "plot_9 = pd.merge(sciamgo, energy, on='Country', how='inner')\n",
    "plot_9= pd.merge(plot_9, gdp, on='Country', how='inner')\n",
    "\n",
    "# Seleccionar solo los años del 2006 al 2015 de datos de PBI\n",
    "years = [str(year) for year in range(2006, 2016)]\n",
    "plot_9 = plot_9[['Country', 'Rank', 'Documents', 'Citable documents', 'Citations', 'Self-citations',\n",
    "                     'Citations per document', 'H index', 'Energy Supply', 'Energy Supply per capita', \n",
    "                     '% Renewable'] + years]\n",
    "\n",
    "# Ordenar el DataFrame por \"Rank\"\n",
    "plot_9.sort_values(by='Rank', inplace=True)\n",
    "\n",
    "# Ahora 'plot_9' es el DataFrame unificado\n",
    "print(plot_9)"
   ]
  },
  {
   "cell_type": "markdown",
   "metadata": {},
   "source": [
    "## Pregunta 2\n",
    "\n",
    "La pregunta anterior unió tres datasets y luego los redujo a las 15 entradas principales. Pero antes de reducirlos a los 15 elementos principales, ¿cuántas entradas se perdieron?\n",
    "\n",
    "Esta función debería devolver un solo número."
   ]
  },
  {
   "cell_type": "code",
   "execution_count": 204,
   "metadata": {
    "vscode": {
     "languageId": "ruby"
    }
   },
   "outputs": [
    {
     "name": "stdout",
     "output_type": "stream",
     "text": [
      "Número de datos perdidos al unir los DataFrames:  528\n"
     ]
    }
   ],
   "source": [
    "# Calcular el número de filas en los DataFrames originales\n",
    "num_rows_scimago = len(scimago)\n",
    "num_rows_energy = len(energy)\n",
    "num_rows_gdp = len(gdp)\n",
    "\n",
    "# Calcular el número de filas en el DataFrame resultante\n",
    "num_rows_plot_9 = len(plot_9)\n",
    "\n",
    "# Calcular cuántos datos se perdieron\n",
    "datos_perdidos = num_rows_scimago + num_rows_energy + num_rows_gdp - num_rows_plot_9\n",
    "\n",
    "print(\"Número de datos perdidos al unir los DataFrames: \", datos_perdidos)"
   ]
  },
  {
   "cell_type": "markdown",
   "metadata": {},
   "source": [
    "## Pregunta 3 \n",
    "\n",
    "¿Cuáles son los 15 países con mayor GDP (PBI) promedio en los últimos 10 años?\n",
    "\n",
    "Esta función debería devolver una serie llamada avgGDP con 15 países y su GDP (PBI) promedio ordenado en orden descendente."
   ]
  },
  {
   "cell_type": "code",
   "execution_count": 205,
   "metadata": {
    "vscode": {
     "languageId": "ruby"
    }
   },
   "outputs": [
    {
     "name": "stdout",
     "output_type": "stream",
     "text": [
      "                            Country  Promedio_inflación_10años\n",
      "242                          Tuvalu               3.329639e+07\n",
      "121                        Kiribati               1.556731e+08\n",
      "153                Marshall Islands               1.641335e+08\n",
      "216           Sao Tome and Principe               1.948745e+08\n",
      "186                           Palau               1.988041e+08\n",
      "76            Micronesia, Fed. Sts.               2.932696e+08\n",
      "236                           Tonga               3.656677e+08\n",
      "54                         Dominica               4.881216e+08\n",
      "43                          Comoros               5.226141e+08\n",
      "258                           Samoa               6.801909e+08\n",
      "255                         Vanuatu               6.874503e+08\n",
      "250  St. Vincent and the Grenadines               6.938145e+08\n",
      "206                 Solomon Islands               7.181757e+08\n",
      "122             St. Kitts and Nevis               7.307170e+08\n",
      "87                          Grenada               7.974842e+08\n"
     ]
    }
   ],
   "source": [
    "# Genera una columna que sea el promedio de los 10 ultimos años\n",
    "gdp[\"Promedio_inflación_10años\"] = gdp[[\"2006\", \"2007\", \"2008\", \"2009\", \"2010\", \"2011\",\"2012\", \"2012\", \"2014\", \"2015\"]].mean(axis=1)\n",
    "\n",
    "# Ordena los promedios obtenidos\n",
    "gdp = gdp.sort_values(by=\"Promedio_inflación_10años\")\n",
    "\n",
    "# Genera DataFrame de el orden por promedio de mayor a menor\n",
    "avgGDP = gdp[[\"Country\", \"Promedio_inflación_10años\"]]\n",
    "\n",
    "# Imprime el TOP 15 \n",
    "print(avgGDP.head(15))"
   ]
  },
  {
   "cell_type": "markdown",
   "metadata": {},
   "source": [
    "## Pregunta 4\n",
    "\n",
    "¿Cuánto cambió el GDP (PBI) durante el lapso de 10 años para el país con el sexto GDP (PBI) promedio más grande?\n",
    "\n",
    "Esta función debería devolver un solo número."
   ]
  },
  {
   "cell_type": "code",
   "execution_count": 207,
   "metadata": {
    "vscode": {
     "languageId": "ruby"
    }
   },
   "outputs": [
    {
     "name": "stdout",
     "output_type": "stream",
     "text": [
      "Diferencia  entre \"2014\" y \"2006\" en inflación para el pais inflacion ubicado en la posicion 6 dl ranking de los paises con mas inflacion: -16534665.612498999\n"
     ]
    }
   ],
   "source": [
    "# Genera una nueva columna \n",
    "gdp[\"Promedio_inflación_10años\"] = gdp[[\"2006\", \"2007\", \"2008\", \"2009\", \"2010\", \"2011\",\"2012\", \"2012\", \"2014\", \"2015\"]].mean(axis=1)\n",
    "\n",
    "# Ordena los valores de esa nueva columna \n",
    "gdp = gdp.sort_values(by=\"Promedio_inflación_10años\")\n",
    "\n",
    "# Genera Dataframe \n",
    "avgGDP = gdp[[\"Country\", \"2006\", \"2007\", \"2008\", \"2009\", \"2010\", \"2011\",\"2012\", \"2012\", \"2014\", \"2015\",\"Promedio_inflación_10años\"]]\n",
    "\n",
    "# Toma los 15 valores Top 15 \n",
    "avgGDP = avgGDP.head(15)\n",
    "\n",
    "# Toma el pais ubicado en la posicion 6 de el top 15\n",
    "fila = avgGDP.iloc[5]\n",
    "\n",
    "#Calcular la diferencia entre las columnas \"2016\" y \"2006\" en la fila 5\n",
    "diferencia = fila[\"2014\"] - fila[\"2006\"]\n",
    "\n",
    "# Imprimir la diferencia\n",
    "print(f'Diferencia  entre \"2014\" y \"2006\" en inflación para el pais inflacion ubicado en la posicion 6 dl ranking de los paises con mas inflacion: {diferencia}')\n",
    "\n"
   ]
  },
  {
   "cell_type": "markdown",
   "metadata": {},
   "source": [
    "## Pregunta 5\n",
    "\n",
    "¿Cuál es el suministro medio de energía per cápita (Energy Supply per Capita)?\n",
    "\n",
    "Esta función debería devolver un solo número."
   ]
  },
  {
   "cell_type": "code",
   "execution_count": 208,
   "metadata": {
    "vscode": {
     "languageId": "ruby"
    }
   },
   "outputs": [
    {
     "name": "stdout",
     "output_type": "stream",
     "text": [
      "El suministro medio de energia per capita es de: 91.03167420814479\n"
     ]
    }
   ],
   "source": [
    "# Cambia los valores de la columna Energy Supply per Capita a valores numericos \n",
    "energy['Energy Supply per capita'] = pd.to_numeric(energy['Energy Supply per capita'], errors='coerce')\n",
    "\n",
    "# Calcula el promedio de la columna \n",
    "promedio = energy['Energy Supply per capita'].mean()\n",
    "\n",
    "#imprime el valor obtenido de promedio\n",
    "print(\"El suministro medio de energia per capita es de:\", promedio)"
   ]
  },
  {
   "cell_type": "markdown",
   "metadata": {},
   "source": [
    "## Pregunta 6\n",
    "\n",
    "¿Qué país tiene el máximo % Renewable y cuál es el porcentaje?\n",
    "\n",
    "Esta función debe devolver una tupla con el nombre del país y el porcentaje."
   ]
  },
  {
   "cell_type": "code",
   "execution_count": 188,
   "metadata": {
    "vscode": {
     "languageId": "ruby"
    }
   },
   "outputs": [
    {
     "name": "stdout",
     "output_type": "stream",
     "text": [
      "Las filas con el valor máximo en '% Renewable' son:\n",
      "(Pandas(Country='Albania', _1=100), Pandas(Country='Bhutan', _1=100), Pandas(Country='Lesotho', _1=100))\n"
     ]
    }
   ],
   "source": [
    "# Genera un Nuevo Dataframe\n",
    "nuevo_energy = energy[['Country', '% Renewable']]\n",
    "\n",
    "# Toma el valor más alto \n",
    "max_valor = nuevo_energy['% Renewable'].max()\n",
    "\n",
    "# Filtra las filas con el valor máximo en '% Renewable\"\n",
    "filas_max = tuple(nuevo_energy[nuevo_energy['% Renewable'] == max_valor].itertuples(index=False))\n",
    "\n",
    "# Imprime una tupla con el valor maximo \n",
    "print(\"Las filas con el valor máximo en '% Renewable' son:\")\n",
    "print(filas_max)"
   ]
  },
  {
   "cell_type": "markdown",
   "metadata": {},
   "source": [
    "## Pregunta 7\n",
    "Cree una nueva columna que sea la relación entre Self-Citations y Total Citations. ¿Cuál es el valor máximo para esta nueva columna y qué país tiene la relación más alta?\n",
    "\n",
    "Esta función debe devolver una tupla con el nombre del país y el ratio (proporción)."
   ]
  },
  {
   "cell_type": "code",
   "execution_count": 209,
   "metadata": {
    "vscode": {
     "languageId": "ruby"
    }
   },
   "outputs": [
    {
     "name": "stdout",
     "output_type": "stream",
     "text": [
      "('China', 0.6893126179389422)\n"
     ]
    }
   ],
   "source": [
    "# Hace una copia de el Dataframe inicial \n",
    "scimago_relacion = sciamgo.copy()\n",
    "\n",
    "# Calcular la relación y la agrega como una nueva columna en 'scimago_relacion'\n",
    "scimago_relacion['Relación Scimago'] = sciamgo['Self-citations'] / sciamgo['Citations']\n",
    "\n",
    "# Genera un nuevo Dataframe \n",
    "scimago_relacion = scimago_relacion[['Country', 'Relación Scimago']]\n",
    "\n",
    "# Seleccionar solo las columnas 'Country' y 'Relación Scimago'\n",
    "scimago_relacion = scimago_relacion[['Country', 'Relación Scimago']]\n",
    "\n",
    "# Encontrar el valor máximo de 'Relación Scimago'\n",
    "max_valor = scimago_relacion['Relación Scimago'].max()\n",
    "\n",
    "# Encontrar el país que tiene la relación Scimago más alta\n",
    "pais_max_relacion = scimago_relacion[scimago_relacion['Relación Scimago'] == max_valor]\n",
    "\n",
    "# Imprimir el valor máximo y el país correspondiente en una tupla\n",
    "resultado = (pais_max_relacion.iloc[0]['Country'],max_valor)\n",
    "\n",
    "print(resultado)\n"
   ]
  },
  {
   "cell_type": "markdown",
   "metadata": {},
   "source": [
    "## Pregunta 8\n",
    "Crea una columna que estime la población utilizando Energy Supply y Energy Supply per capita. ¿Cuál es el tercer país más poblado según esta estimación?\n",
    "\n",
    "Esta función debería devolver el nombre del país\n"
   ]
  },
  {
   "cell_type": "code",
   "execution_count": 190,
   "metadata": {
    "vscode": {
     "languageId": "ruby"
    }
   },
   "outputs": [
    {
     "name": "stdout",
     "output_type": "stream",
     "text": [
      "United States\n"
     ]
    }
   ],
   "source": [
    "poblacion_estimada = energy.copy()\n",
    "\n",
    "# Calcular la relación y agregarla como una nueva columna en 'scimago_relacion'\n",
    "poblacion_estimada['Poblacion Estimada'] = energy['Energy Supply'] / energy['Energy Supply per capita']\n",
    "\n",
    "# Ordenar el DataFrame en función de la columna 'Poblacion Estimada' de manera descendente\n",
    "poblacion_estimada1 = poblacion_estimada.sort_values(by='Poblacion Estimada', ascending=False)\n",
    "\n",
    "# Obtener el tercer valor más alto\n",
    "tercer_valor_mas_alto = poblacion_estimada1['Country'].iloc[2]\n",
    "\n",
    "# Imprime el pais\n",
    "print(tercer_valor_mas_alto)"
   ]
  },
  {
   "cell_type": "markdown",
   "metadata": {},
   "source": [
    "## Pregunta 9\n",
    "Crea una columna que estime el número de Citable documents por persona. ¿Cuál es la correlación entre el número de Citable documents per cápita y el Energy Supply per Capita? Utiliza el método .corr(), (correlación de Pearson).\n",
    "\n",
    "Esta función debería devolver un solo número.\n",
    "\n",
    "(Opcional: utiliza la función plot9() para visualizar la relación entre el suministro de energía per cápita y los Citable documents per cápita)"
   ]
  },
  {
   "cell_type": "code",
   "execution_count": 210,
   "metadata": {
    "vscode": {
     "languageId": "ruby"
    }
   },
   "outputs": [
    {
     "name": "stdout",
     "output_type": "stream",
     "text": [
      "Correlación entre 'Citable documents per capita' y 'Energy Supply per capita': -0.3535341612894672\n"
     ]
    }
   ],
   "source": [
    "# Hace una copia de el Dataframe inicial \n",
    "copia_plot_9 = plot_9.copy()\n",
    "\n",
    "# Genera una nueva columna\n",
    "copia_plot_9['Citable documents per capita'] = copia_plot_9['Citable documents'] / copia_plot_9['Energy Supply per capita']\n",
    "\n",
    "# Calcular la correlación entre 'Citable documents per capita' y 'Energy Supply per capita'\n",
    "correlacion = copia_plot_9['Citable documents per capita'].corr(copia_plot_9['Energy Supply per capita'])\n",
    "\n",
    "#Imprimir la correlación\n",
    "print(\"Correlación entre 'Citable documents per capita' y 'Energy Supply per capita':\", correlacion)\n"
   ]
  },
  {
   "cell_type": "markdown",
   "metadata": {},
   "source": [
    "## Pregunta 10\n",
    "Crea una nueva columna con un valor igual a 1 si el valor de % de energía renovable del país (% Renewable) es igual o superior de la mediana de todos los países en el top 15, o con un valor igual a 0 si el valor de % de energía renovable del país (% Renewable) está por debajo de la mediana.\n",
    "\n",
    "Esta función debería devolver una serie llamada HighRenew cuyo índice es el nombre del país ordenado ascendentemente según el ranking. \n"
   ]
  },
  {
   "cell_type": "code",
   "execution_count": 192,
   "metadata": {
    "vscode": {
     "languageId": "ruby"
    }
   },
   "outputs": [
    {
     "name": "stdout",
     "output_type": "stream",
     "text": [
      "               Country  Rank  Documents  Citable documents  Citations  \\\n",
      "0                China     1     127050             126767     597237   \n",
      "1        United States     2      96661              94747     792274   \n",
      "2                Japan     3      30504              30287     223024   \n",
      "3       United Kingdom     4      20944              20357     206091   \n",
      "4   Russian Federation     5      18534              18301      34266   \n",
      "5               Canada     6      17899              17620     215003   \n",
      "6              Germany     7      17027              16831     140566   \n",
      "7                India     8      15005              14841     128763   \n",
      "8               France     9      13153              12973     130632   \n",
      "9          South Korea    10      11983              11923     114675   \n",
      "10               Italy    11      10964              10794     111850   \n",
      "11               Spain    12       9428               9330     123336   \n",
      "12                Iran    13       8896               8819      57470   \n",
      "13           Australia    14       8831               8725      90765   \n",
      "14              Brazil    15       8668               8596      60702   \n",
      "\n",
      "    Self-citations  Citations per document  H index  Energy Supply  \\\n",
      "0           411683                    4.70      138   1.271910e+11   \n",
      "1           265436                    8.20      230   9.083800e+10   \n",
      "2            61554                    7.31      134   1.898400e+10   \n",
      "3            37874                    9.84      139   7.920000e+09   \n",
      "4            12422                    1.85       57   3.070900e+10   \n",
      "5            40930                   12.01      149   1.043100e+10   \n",
      "6            27426                    8.26      126   1.326100e+10   \n",
      "7            37209                    8.58      115   3.319500e+10   \n",
      "8            28601                    9.93      114   1.059700e+10   \n",
      "9            22595                    9.57      104   1.100700e+10   \n",
      "10           26661                   10.20      106   6.530000e+09   \n",
      "11           23964                   13.08      115   4.923000e+09   \n",
      "12           19125                    6.46       72   9.172000e+09   \n",
      "13           15606                   10.28      107   5.386000e+09   \n",
      "14           14396                    7.00       86   1.214900e+10   \n",
      "\n",
      "   Energy Supply per capita  ...          2007          2008          2009  \\\n",
      "0                        93  ...  4.559041e+12  4.997775e+12  5.459247e+12   \n",
      "1                       286  ...  1.505540e+13  1.501149e+13  1.459484e+13   \n",
      "2                       149  ...  5.617036e+12  5.558527e+12  5.251308e+12   \n",
      "3                       124  ...  2.482203e+12  2.470614e+12  2.367048e+12   \n",
      "4                       214  ...  1.504071e+12  1.583004e+12  1.459199e+12   \n",
      "5                       296  ...  1.596740e+12  1.612713e+12  1.565145e+12   \n",
      "6                       165  ...  3.441561e+12  3.478809e+12  3.283340e+12   \n",
      "7                        26  ...  1.374865e+12  1.428361e+12  1.549483e+12   \n",
      "8                       166  ...  2.669424e+12  2.674637e+12  2.595967e+12   \n",
      "9                       221  ...  9.924316e+11  1.020510e+12  1.027730e+12   \n",
      "10                      109  ...  2.234627e+12  2.211154e+12  2.089938e+12   \n",
      "11                      106  ...  1.468146e+12  1.484530e+12  1.431475e+12   \n",
      "12                      119  ...  4.250646e+11  4.289909e+11  4.389208e+11   \n",
      "13                      231  ...  1.060340e+12  1.099644e+12  1.119654e+12   \n",
      "14                       59  ...  1.957118e+12  2.056809e+12  2.054215e+12   \n",
      "\n",
      "            2010          2011          2012          2013          2014  \\\n",
      "0   6.039659e+12  6.612490e+12  7.124978e+12  7.672448e+12  8.230121e+12   \n",
      "1   1.496437e+13  1.520402e+13  1.554216e+13  1.577367e+13  1.615662e+13   \n",
      "2   5.498718e+12  5.473738e+12  5.569102e+12  5.644659e+12  5.642884e+12   \n",
      "3   2.403504e+12  2.450911e+12  2.479809e+12  2.533370e+12  2.605643e+12   \n",
      "4   1.524917e+12  1.589943e+12  1.645876e+12  1.666934e+12  1.678709e+12   \n",
      "5   1.613406e+12  1.664087e+12  1.693133e+12  1.730688e+12  1.773486e+12   \n",
      "6   3.417298e+12  3.542371e+12  3.556724e+12  3.567317e+12  3.624386e+12   \n",
      "7   1.708459e+12  1.821872e+12  1.924235e+12  2.051982e+12  2.200617e+12   \n",
      "8   2.646995e+12  2.702032e+12  2.706968e+12  2.722567e+12  2.729632e+12   \n",
      "9   1.094499e+12  1.134796e+12  1.160809e+12  1.194429e+12  1.234340e+12   \n",
      "10  2.125185e+12  2.137439e+12  2.077184e+12  2.040871e+12  2.033868e+12   \n",
      "11  1.431673e+12  1.417355e+12  1.380216e+12  1.357139e+12  1.375605e+12   \n",
      "12  4.677902e+11  4.853309e+11  4.532569e+11  4.445926e+11  4.639027e+11   \n",
      "13  1.142251e+12  1.169431e+12  1.211913e+12  1.241484e+12  1.272520e+12   \n",
      "14  2.208872e+12  2.295245e+12  2.339209e+12  2.409740e+12  2.412231e+12   \n",
      "\n",
      "            2015  HighRenew  \n",
      "0   8.797999e+12          1  \n",
      "1   1.654857e+13          0  \n",
      "2   5.669563e+12          0  \n",
      "3   2.666333e+12          0  \n",
      "4   1.616149e+12          1  \n",
      "5   1.792609e+12          1  \n",
      "6   3.685556e+12          1  \n",
      "7   2.367206e+12          0  \n",
      "8   2.761185e+12          1  \n",
      "9   1.266580e+12          0  \n",
      "10  2.049316e+12          1  \n",
      "11  1.419821e+12          1  \n",
      "12           NaN          0  \n",
      "13  1.301251e+12          0  \n",
      "14  2.319423e+12          1  \n",
      "\n",
      "[15 rows x 22 columns]\n"
     ]
    }
   ],
   "source": [
    "# Hace una copia de el Dataframe inicial \n",
    "copia1_plot_9 = plot_9.copy()\n",
    "\n",
    "# Calcular la mediana de '% Renewable' en los países en el top 15\n",
    "median_renewable = copia1_plot_9['% Renewable'].median()\n",
    "\n",
    "# Crear la columna 'HighRenew' con valores de 1 o 0 según la condición\n",
    "copia1_plot_9['HighRenew'] = (copia1_plot_9['% Renewable'] >= median_renewable).astype(int)\n",
    "\n",
    "# Ordenar el DataFrame por \"Rank\"\n",
    "copia1_plot_9.sort_values(by='Rank', inplace=True)\n",
    "\n",
    "# Imprime el Dataframe \n",
    "print(copia1_plot_9)"
   ]
  },
  {
   "cell_type": "markdown",
   "metadata": {},
   "source": [
    "## Pregunta 11\n",
    "Utiliza el siguiente diccionario para agrupar los países por continente, luego crea un DataFrame que muestre el tamaño de la muestra (la cantidad de países en cada contenedor de continente) y la suma, la media y la desviación estándar para la población estimada de cada país.\n",
    "\n",
    "continent_dict  = {'China':'Asia',\n",
    "                   'United States':'North America',\n",
    "                   'Japan':'Asia',\n",
    "                   'United Kingdom':'Europe',\n",
    "                   'Russian Federation':'Europe',\n",
    "                   'Canada':'North America',\n",
    "                   'Germany':'Europe',\n",
    "                   'India':'Asia',\n",
    "                   'France':'Europe',\n",
    "                   'South Korea':'Asia',\n",
    "                   'Italy':'Europe',\n",
    "                   'Spain':'Europe',\n",
    "                   'Iran':'Asia',\n",
    "                   'Australia':'Australia',\n",
    "                   'Brazil':'South America'}\n",
    "Esta función debería devolver un DataFrame con un índice llamado Continent ['Asia', 'Australia', 'Europe', 'North America', 'South America'] y columnas ['size', 'sum', 'mean', 'std']\n"
   ]
  },
  {
   "cell_type": "code",
   "execution_count": 193,
   "metadata": {
    "vscode": {
     "languageId": "ruby"
    }
   },
   "outputs": [
    {
     "name": "stdout",
     "output_type": "stream",
     "text": [
      "                Contry      Continent\n",
      "0                China           Asia\n",
      "1        United States  North America\n",
      "2                Japan           Asia\n",
      "3       United Kingdom         Europe\n",
      "4   Russian Federation         Europe\n",
      "5               Canada  North America\n",
      "6              Germany         Europe\n",
      "7                India           Asia\n",
      "8               France         Europe\n",
      "9          South Korea           Asia\n",
      "10               Italy         Europe\n",
      "11               Spain         Europe\n",
      "12                Iran           Asia\n",
      "13           Australia      Australia\n",
      "14              Brazil  South America\n"
     ]
    }
   ],
   "source": [
    "copia2_plot_9 = plot_9.copy()\n",
    "\n",
    "# Definir el diccionario de continentes\n",
    "continent_dict = {'China': 'Asia',\n",
    "                  'United States': 'North America',\n",
    "                  'Japan': 'Asia',\n",
    "                  'United Kingdom': 'Europe',\n",
    "                  'Russian Federation': 'Europe',\n",
    "                  'Canada': 'North America',\n",
    "                  'Germany': 'Europe',\n",
    "                  'India': 'Asia',\n",
    "                  'France': 'Europe',\n",
    "                  'South Korea': 'Asia',\n",
    "                  'Italy': 'Europe',\n",
    "                  'Spain': 'Europe',\n",
    "                  'Iran': 'Asia',\n",
    "                  'Australia': 'Australia',\n",
    "                  'Brazil': 'South America'}\n",
    "\n",
    "# Agregar una columna de continentes al DataFrame\n",
    "copia2_plot_9['Continente'] = copia2_plot_9['Country'].map(continent_dict)\n",
    "\n",
    "nuevo_df = pd.DataFrame({'Contry': copia2_plot_9['Country'], 'Continent': copia2_plot_9['Continente']})\n",
    "\n",
    "print(nuevo_df)\n"
   ]
  }
 ],
 "metadata": {
  "kernelspec": {
   "display_name": "Python 3",
   "language": "python",
   "name": "python3"
  },
  "language_info": {
   "codemirror_mode": {
    "name": "ipython",
    "version": 3
   },
   "file_extension": ".py",
   "mimetype": "text/x-python",
   "name": "python",
   "nbconvert_exporter": "python",
   "pygments_lexer": "ipython3",
   "version": "3.11.3"
  },
  "orig_nbformat": 4
 },
 "nbformat": 4,
 "nbformat_minor": 2
}
